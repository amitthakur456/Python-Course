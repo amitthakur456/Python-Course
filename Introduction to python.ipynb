{
 "cells": [
  {
   "cell_type": "markdown",
   "id": "a9c5f296-1ef7-487b-8ee2-272706ef47fb",
   "metadata": {},
   "source": [
    "# Python Variable"
   ]
  },
  {
   "cell_type": "code",
   "execution_count": 1,
   "id": "f76dfe43-47c1-44e8-9bd6-7542731fe387",
   "metadata": {},
   "outputs": [],
   "source": [
    "x = 100"
   ]
  },
  {
   "cell_type": "code",
   "execution_count": 2,
   "id": "e63e1ea8-69e1-4a07-9f85-952759a52604",
   "metadata": {},
   "outputs": [
    {
     "data": {
      "text/plain": [
       "int"
      ]
     },
     "execution_count": 2,
     "metadata": {},
     "output_type": "execute_result"
    }
   ],
   "source": [
    "type(x)"
   ]
  },
  {
   "cell_type": "markdown",
   "id": "730a6a46-4bb0-4d4a-b6d4-f27a231b5800",
   "metadata": {},
   "source": [
    "## float data type"
   ]
  },
  {
   "cell_type": "code",
   "execution_count": 3,
   "id": "8c86f17a-50ab-44dc-adb1-2ff75d14a226",
   "metadata": {},
   "outputs": [],
   "source": [
    "x = 3.14"
   ]
  },
  {
   "cell_type": "code",
   "execution_count": 4,
   "id": "60cc9cc6-0f8f-4a8f-b5cf-3c42b8f6f994",
   "metadata": {},
   "outputs": [
    {
     "name": "stdout",
     "output_type": "stream",
     "text": [
      "3.14\n"
     ]
    }
   ],
   "source": [
    "print(x)"
   ]
  },
  {
   "cell_type": "markdown",
   "id": "f22dffb1-e004-4533-9e66-1cd975e2231d",
   "metadata": {},
   "source": [
    "# String "
   ]
  },
  {
   "cell_type": "code",
   "execution_count": 5,
   "id": "3acf6994-abb7-40bc-b8a8-896d02d034aa",
   "metadata": {},
   "outputs": [],
   "source": [
    "hello = \"Hello Simplilearn\""
   ]
  },
  {
   "cell_type": "code",
   "execution_count": 6,
   "id": "f123a4bf-2b5a-4383-bba2-dfdf41882cf3",
   "metadata": {},
   "outputs": [
    {
     "name": "stdout",
     "output_type": "stream",
     "text": [
      "Hello Simplilearn\n"
     ]
    }
   ],
   "source": [
    "print(hello)"
   ]
  },
  {
   "cell_type": "markdown",
   "id": "4848f98c-2bee-440d-89d1-029eaf5c16fa",
   "metadata": {},
   "source": [
    "# list"
   ]
  },
  {
   "cell_type": "code",
   "execution_count": 7,
   "id": "833ab0a8-4006-45fe-81b9-5b0f41f9cfdc",
   "metadata": {},
   "outputs": [],
   "source": [
    "list = [1,2,3,4]"
   ]
  },
  {
   "cell_type": "code",
   "execution_count": 8,
   "id": "9dbc9c66-7a65-49ab-8f23-b492cccbda7e",
   "metadata": {},
   "outputs": [
    {
     "name": "stdout",
     "output_type": "stream",
     "text": [
      "[1, 2, 3, 4]\n"
     ]
    }
   ],
   "source": [
    "print(list)"
   ]
  },
  {
   "cell_type": "code",
   "execution_count": 12,
   "id": "27cc3530-7db7-4dca-9913-54403dd69c02",
   "metadata": {},
   "outputs": [
    {
     "name": "stdout",
     "output_type": "stream",
     "text": [
      "2\n"
     ]
    }
   ],
   "source": [
    "print(list[1])"
   ]
  },
  {
   "cell_type": "code",
   "execution_count": 13,
   "id": "f2d719ba-f6cd-4457-a6c5-02710848968c",
   "metadata": {},
   "outputs": [],
   "source": [
    "list[2] = 45"
   ]
  },
  {
   "cell_type": "code",
   "execution_count": 14,
   "id": "2420b524-aa55-4225-b509-d073b34e2a75",
   "metadata": {},
   "outputs": [
    {
     "name": "stdout",
     "output_type": "stream",
     "text": [
      "[1, 2, 45, 4]\n"
     ]
    }
   ],
   "source": [
    "print(list)"
   ]
  },
  {
   "cell_type": "markdown",
   "id": "b9bc445c-ba61-427d-9ca8-573ca7c63453",
   "metadata": {},
   "source": [
    "# tuple"
   ]
  },
  {
   "cell_type": "code",
   "execution_count": 15,
   "id": "c6d82849-5a16-44ae-ad72-2ea8adf2de3f",
   "metadata": {},
   "outputs": [],
   "source": [
    "tuple = (1,4,5,56)"
   ]
  },
  {
   "cell_type": "code",
   "execution_count": 16,
   "id": "2f34b502-737f-4622-a7c4-ed1b05e6f469",
   "metadata": {},
   "outputs": [
    {
     "data": {
      "text/plain": [
       "(1, 4, 5, 56)"
      ]
     },
     "execution_count": 16,
     "metadata": {},
     "output_type": "execute_result"
    }
   ],
   "source": [
    "tuple"
   ]
  },
  {
   "cell_type": "code",
   "execution_count": 19,
   "id": "a42f4661-4032-40a8-9e98-6142f7b485b3",
   "metadata": {},
   "outputs": [
    {
     "name": "stdout",
     "output_type": "stream",
     "text": [
      "1\n"
     ]
    }
   ],
   "source": [
    "print(tuple[0])"
   ]
  },
  {
   "cell_type": "code",
   "execution_count": 21,
   "id": "fc6cc25c-6847-4c9f-9897-662fa128b483",
   "metadata": {},
   "outputs": [],
   "source": [
    "x = open('Linear Regression.ipynb','r')"
   ]
  },
  {
   "cell_type": "code",
   "execution_count": 22,
   "id": "63e549f1-4227-46df-a788-1f38022a14ca",
   "metadata": {},
   "outputs": [
    {
     "data": {
      "text/plain": [
       "_io.TextIOWrapper"
      ]
     },
     "execution_count": 22,
     "metadata": {},
     "output_type": "execute_result"
    }
   ],
   "source": [
    "type(x)"
   ]
  },
  {
   "cell_type": "code",
   "execution_count": 23,
   "id": "a52b6340-dc7b-42ba-bb58-d4c04265ffc7",
   "metadata": {},
   "outputs": [],
   "source": [
    "(x,y,z) = 4,5,6"
   ]
  },
  {
   "cell_type": "code",
   "execution_count": 24,
   "id": "02c3a43e-a98b-427e-b092-2decdabcbe2d",
   "metadata": {},
   "outputs": [
    {
     "name": "stdout",
     "output_type": "stream",
     "text": [
      "4\n"
     ]
    }
   ],
   "source": [
    "print(x)"
   ]
  },
  {
   "cell_type": "code",
   "execution_count": 25,
   "id": "96084f2a-c7fa-406f-8b82-cd12e3f9eb9e",
   "metadata": {},
   "outputs": [
    {
     "name": "stdout",
     "output_type": "stream",
     "text": [
      "5\n"
     ]
    }
   ],
   "source": [
    "print(y)"
   ]
  },
  {
   "cell_type": "code",
   "execution_count": 26,
   "id": "7535d15c-fbff-4be1-8ed4-537e1ce251ec",
   "metadata": {},
   "outputs": [
    {
     "name": "stdout",
     "output_type": "stream",
     "text": [
      "6\n"
     ]
    }
   ],
   "source": [
    "print(z)"
   ]
  },
  {
   "cell_type": "code",
   "execution_count": null,
   "id": "9d2051ce-d5fd-48b8-baca-fa8996cb5e21",
   "metadata": {},
   "outputs": [],
   "source": []
  }
 ],
 "metadata": {
  "kernelspec": {
   "display_name": "Python 3 (ipykernel)",
   "language": "python",
   "name": "python3"
  },
  "language_info": {
   "codemirror_mode": {
    "name": "ipython",
    "version": 3
   },
   "file_extension": ".py",
   "mimetype": "text/x-python",
   "name": "python",
   "nbconvert_exporter": "python",
   "pygments_lexer": "ipython3",
   "version": "3.13.0"
  }
 },
 "nbformat": 4,
 "nbformat_minor": 5
}
