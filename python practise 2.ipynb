{
 "cells": [
  {
   "cell_type": "markdown",
   "id": "ea303017-1761-4e9e-8761-73a0d66994a7",
   "metadata": {},
   "source": [
    "# practise list"
   ]
  },
  {
   "cell_type": "code",
   "execution_count": 1,
   "id": "4daa7cfd-f1c3-4878-8a12-ee08976da62e",
   "metadata": {},
   "outputs": [],
   "source": [
    "list = [1,\"Amit\",45,\"Amit_Thakur\"]"
   ]
  },
  {
   "cell_type": "code",
   "execution_count": 2,
   "id": "8c901e64-dec1-4369-8e36-6c343954b16c",
   "metadata": {},
   "outputs": [
    {
     "data": {
      "text/plain": [
       "[1, 'Amit', 45, 'Amit_Thakur']"
      ]
     },
     "execution_count": 2,
     "metadata": {},
     "output_type": "execute_result"
    }
   ],
   "source": [
    "list "
   ]
  },
  {
   "cell_type": "code",
   "execution_count": 3,
   "id": "0722ee86-60bd-4546-8634-19dc59d938fd",
   "metadata": {},
   "outputs": [],
   "source": [
    "list.append(\"soham\")"
   ]
  },
  {
   "cell_type": "code",
   "execution_count": 4,
   "id": "4c44238a-76d7-453b-93c7-350e3d84f77d",
   "metadata": {},
   "outputs": [
    {
     "name": "stdout",
     "output_type": "stream",
     "text": [
      "[1, 'Amit', 45, 'Amit_Thakur', 'soham']\n"
     ]
    }
   ],
   "source": [
    "print(list)"
   ]
  },
  {
   "cell_type": "code",
   "execution_count": 5,
   "id": "45b67531-ef15-4710-a177-377611db7e4a",
   "metadata": {},
   "outputs": [],
   "source": [
    "list1 = [7,8,9,7,5]"
   ]
  },
  {
   "cell_type": "code",
   "execution_count": 6,
   "id": "33877e9e-aae7-4fa4-8b3a-751fbb152386",
   "metadata": {},
   "outputs": [
    {
     "name": "stdout",
     "output_type": "stream",
     "text": [
      "[7, 8, 9, 7, 5]\n"
     ]
    }
   ],
   "source": [
    "print(list1)"
   ]
  },
  {
   "cell_type": "code",
   "execution_count": 7,
   "id": "6576edfd-2fda-41eb-ae0a-1c0482f3c1e0",
   "metadata": {},
   "outputs": [],
   "source": [
    "list1.extend(list)"
   ]
  },
  {
   "cell_type": "code",
   "execution_count": 8,
   "id": "3a7efa4c-b860-4b8f-9fc1-643db76a44ba",
   "metadata": {},
   "outputs": [
    {
     "name": "stdout",
     "output_type": "stream",
     "text": [
      "[7, 8, 9, 7, 5, 1, 'Amit', 45, 'Amit_Thakur', 'soham']\n"
     ]
    }
   ],
   "source": [
    "print(list1)"
   ]
  },
  {
   "cell_type": "code",
   "execution_count": 9,
   "id": "4e7fbd30-bd47-4678-892b-4f85ecee413c",
   "metadata": {},
   "outputs": [],
   "source": [
    "list1.insert(2,\"practise in list\")"
   ]
  },
  {
   "cell_type": "code",
   "execution_count": 10,
   "id": "34391b23-9ff9-4425-b9e0-f0b981472194",
   "metadata": {},
   "outputs": [
    {
     "name": "stdout",
     "output_type": "stream",
     "text": [
      "[7, 8, 'practise in list', 9, 7, 5, 1, 'Amit', 45, 'Amit_Thakur', 'soham']\n"
     ]
    }
   ],
   "source": [
    "print(list1)"
   ]
  },
  {
   "cell_type": "code",
   "execution_count": 12,
   "id": "43b16446-20ab-4dba-953e-570b04b8b7a5",
   "metadata": {},
   "outputs": [],
   "source": [
    "list1.remove(\"practise in list\")"
   ]
  },
  {
   "cell_type": "raw",
   "id": "938d80b7-f449-48e8-87bb-9ab5b1f98ffe",
   "metadata": {},
   "source": [
    "print(list1)"
   ]
  },
  {
   "cell_type": "code",
   "execution_count": 13,
   "id": "1d745b8c-d90b-4773-9391-a8598940be72",
   "metadata": {},
   "outputs": [
    {
     "name": "stdout",
     "output_type": "stream",
     "text": [
      "[7, 8, 9, 7, 5, 1, 'Amit', 45, 'Amit_Thakur', 'soham']\n"
     ]
    }
   ],
   "source": [
    "print(list1)"
   ]
  },
  {
   "cell_type": "code",
   "execution_count": 15,
   "id": "f8f49911-eadb-422f-a7d9-0d72458d0eef",
   "metadata": {},
   "outputs": [],
   "source": [
    "list2 = [7,4,8,9,6,5,2,3,1]"
   ]
  },
  {
   "cell_type": "code",
   "execution_count": 17,
   "id": "e3d21eca-6b66-403d-8c92-195581409768",
   "metadata": {},
   "outputs": [],
   "source": [
    "list2.sort()"
   ]
  },
  {
   "cell_type": "code",
   "execution_count": 18,
   "id": "54ebb33c-6e7b-4f54-b63e-64b281287d05",
   "metadata": {},
   "outputs": [
    {
     "data": {
      "text/plain": [
       "[1, 2, 3, 4, 5, 6, 7, 8, 9]"
      ]
     },
     "execution_count": 18,
     "metadata": {},
     "output_type": "execute_result"
    }
   ],
   "source": [
    "list2"
   ]
  },
  {
   "cell_type": "code",
   "execution_count": 19,
   "id": "14064e74-a891-4e35-a652-5eaf4a22507b",
   "metadata": {},
   "outputs": [
    {
     "data": {
      "text/plain": [
       "9"
      ]
     },
     "execution_count": 19,
     "metadata": {},
     "output_type": "execute_result"
    }
   ],
   "source": [
    "len(list2)"
   ]
  },
  {
   "cell_type": "code",
   "execution_count": 22,
   "id": "b088f36a-6404-4530-8627-6b403a122c41",
   "metadata": {},
   "outputs": [
    {
     "data": {
      "text/plain": [
       "1"
      ]
     },
     "execution_count": 22,
     "metadata": {},
     "output_type": "execute_result"
    }
   ],
   "source": [
    "min(list2)"
   ]
  },
  {
   "cell_type": "code",
   "execution_count": 23,
   "id": "9095dbd0-0a56-4083-8098-c3a48ffe7418",
   "metadata": {},
   "outputs": [
    {
     "data": {
      "text/plain": [
       "9"
      ]
     },
     "execution_count": 23,
     "metadata": {},
     "output_type": "execute_result"
    }
   ],
   "source": [
    "max(list2)"
   ]
  },
  {
   "cell_type": "code",
   "execution_count": 24,
   "id": "a8fac8a9-9591-49c5-a5c3-eaadca580f1e",
   "metadata": {},
   "outputs": [
    {
     "data": {
      "text/plain": [
       "45"
      ]
     },
     "execution_count": 24,
     "metadata": {},
     "output_type": "execute_result"
    }
   ],
   "source": [
    "sum(list2)"
   ]
  },
  {
   "cell_type": "markdown",
   "id": "15fb6f13-ceb6-43fa-bb2d-5497e9d10636",
   "metadata": {},
   "source": [
    "Tuples"
   ]
  },
  {
   "cell_type": "markdown",
   "id": "228c410b-e446-4a07-903f-82834e77e778",
   "metadata": {},
   "source": [
    "# Creating The Tuple"
   ]
  },
  {
   "cell_type": "code",
   "execution_count": 25,
   "id": "21088838-4ed1-430b-81f7-6fd4e05eb066",
   "metadata": {},
   "outputs": [
    {
     "name": "stdout",
     "output_type": "stream",
     "text": [
      "(1, 2, 3, 4, 5, 6)\n"
     ]
    }
   ],
   "source": [
    "tup = (1,2,3,4,5,6)\n",
    "print(tup)"
   ]
  },
  {
   "cell_type": "code",
   "execution_count": 26,
   "id": "d788005d-e20e-4556-9feb-8a4f5e901180",
   "metadata": {},
   "outputs": [
    {
     "data": {
      "text/plain": [
       "2"
      ]
     },
     "execution_count": 26,
     "metadata": {},
     "output_type": "execute_result"
    }
   ],
   "source": [
    "tup[1]"
   ]
  },
  {
   "cell_type": "code",
   "execution_count": 27,
   "id": "13460d04-14a3-49c9-aa05-a2b7d1a75720",
   "metadata": {},
   "outputs": [
    {
     "name": "stdout",
     "output_type": "stream",
     "text": [
      "(7, 8, 9, 4, 5, 6)\n"
     ]
    }
   ],
   "source": [
    "tup2 = (7,8,9,4,5,6)\n",
    "print(tup2)"
   ]
  },
  {
   "cell_type": "code",
   "execution_count": 29,
   "id": "7d85a1ea-e469-40ae-a97c-199d8ffb8d85",
   "metadata": {},
   "outputs": [
    {
     "name": "stdout",
     "output_type": "stream",
     "text": [
      "(1, 2, 3, 4, 5, 6, 7, 8, 9, 4, 5, 6)\n"
     ]
    }
   ],
   "source": [
    "print(tup+tup2)"
   ]
  },
  {
   "cell_type": "markdown",
   "id": "7553f9f1-1aff-4086-97d5-dddb0c667dc1",
   "metadata": {},
   "source": [
    "# Nesting in tuple"
   ]
  },
  {
   "cell_type": "code",
   "execution_count": 30,
   "id": "cc068c2f-0f3c-4751-8906-c38ca462f6c0",
   "metadata": {},
   "outputs": [
    {
     "name": "stdout",
     "output_type": "stream",
     "text": [
      "(1, 2, 3, 4, 5, 6) (7, 8, 9, 4, 5, 6)\n"
     ]
    }
   ],
   "source": [
    "print(tup,tup2)"
   ]
  },
  {
   "cell_type": "markdown",
   "id": "a5b3bab6-f872-4a6d-ac07-576721c8411b",
   "metadata": {},
   "source": [
    "# Repetition"
   ]
  },
  {
   "cell_type": "code",
   "execution_count": 31,
   "id": "7720a10a-790b-4080-90a1-0c12c9cde1a6",
   "metadata": {},
   "outputs": [],
   "source": [
    "rep = (\"Amit\") *4"
   ]
  },
  {
   "cell_type": "code",
   "execution_count": 32,
   "id": "42baeec9-c233-4801-a0be-99a710c7f104",
   "metadata": {},
   "outputs": [
    {
     "name": "stdout",
     "output_type": "stream",
     "text": [
      "AmitAmitAmitAmit\n"
     ]
    }
   ],
   "source": [
    "print(rep)"
   ]
  },
  {
   "cell_type": "markdown",
   "id": "afd29574-4454-4303-aae5-8410c95a34e6",
   "metadata": {},
   "source": [
    "# slicing"
   ]
  },
  {
   "cell_type": "code",
   "execution_count": 33,
   "id": "49a2ae94-20ef-4067-b35e-3cc342cf1412",
   "metadata": {},
   "outputs": [
    {
     "data": {
      "text/plain": [
       "(2, 3, 4, 5, 6)"
      ]
     },
     "execution_count": 33,
     "metadata": {},
     "output_type": "execute_result"
    }
   ],
   "source": [
    "tup[1:]"
   ]
  },
  {
   "cell_type": "code",
   "execution_count": 34,
   "id": "172410c6-bbae-4945-bc29-6f6d9ad60500",
   "metadata": {},
   "outputs": [
    {
     "data": {
      "text/plain": [
       "(7, 8, 9, 4, 5)"
      ]
     },
     "execution_count": 34,
     "metadata": {},
     "output_type": "execute_result"
    }
   ],
   "source": [
    "tup2[:-1]"
   ]
  },
  {
   "cell_type": "markdown",
   "id": "1a4c34ea-5191-40da-97c4-33e4c1171012",
   "metadata": {},
   "source": [
    "# Unpacking"
   ]
  },
  {
   "cell_type": "code",
   "execution_count": 38,
   "id": "39a1decc-1dfe-4167-be54-bc0847fee68d",
   "metadata": {},
   "outputs": [
    {
     "data": {
      "text/plain": [
       "('w',\n",
       " 'e',\n",
       " 'l',\n",
       " 'c',\n",
       " 'o',\n",
       " 'm',\n",
       " 'e',\n",
       " ' ',\n",
       " 't',\n",
       " 'o',\n",
       " ' ',\n",
       " 't',\n",
       " 'h',\n",
       " 'e',\n",
       " ' ',\n",
       " 'w',\n",
       " 'o',\n",
       " 'r',\n",
       " 'l',\n",
       " 'd',\n",
       " ' ',\n",
       " 'o',\n",
       " 'f',\n",
       " ' ',\n",
       " 'p',\n",
       " 'r',\n",
       " 'o',\n",
       " 'g',\n",
       " 'r',\n",
       " 'a',\n",
       " 'm',\n",
       " 'm',\n",
       " 'i',\n",
       " 'n',\n",
       " 'g')"
      ]
     },
     "execution_count": 38,
     "metadata": {},
     "output_type": "execute_result"
    }
   ],
   "source": [
    "tuple(\"welcome to the world of programming\")"
   ]
  },
  {
   "cell_type": "code",
   "execution_count": 36,
   "id": "29550a80-daf5-4c28-9a27-974006c08674",
   "metadata": {},
   "outputs": [
    {
     "data": {
      "text/plain": [
       "'welcome to the world of programming'"
      ]
     },
     "execution_count": 36,
     "metadata": {},
     "output_type": "execute_result"
    }
   ],
   "source": [
    "tup1"
   ]
  },
  {
   "cell_type": "code",
   "execution_count": 46,
   "id": "7821427b-5b66-4af8-8663-1bee4bcfd8ac",
   "metadata": {},
   "outputs": [
    {
     "data": {
      "text/plain": [
       "(1, 2, 3, 4, 5, 6)"
      ]
     },
     "execution_count": 46,
     "metadata": {},
     "output_type": "execute_result"
    }
   ],
   "source": [
    "tup"
   ]
  },
  {
   "cell_type": "code",
   "execution_count": 42,
   "id": "5eda2111-f415-42d1-a60e-f6394815c66b",
   "metadata": {},
   "outputs": [],
   "source": [
    "del(tup1)"
   ]
  },
  {
   "cell_type": "code",
   "execution_count": 45,
   "id": "48bd889a-440f-46c3-ac28-55806043bf3e",
   "metadata": {},
   "outputs": [
    {
     "data": {
      "text/plain": [
       "(1, 2, 3, 4, 5, 6)"
      ]
     },
     "execution_count": 45,
     "metadata": {},
     "output_type": "execute_result"
    }
   ],
   "source": [
    "tup"
   ]
  },
  {
   "cell_type": "markdown",
   "id": "1ce15f87-c885-4959-87ad-8f07717f1240",
   "metadata": {},
   "source": [
    "# Builts in function with tuple"
   ]
  },
  {
   "cell_type": "code",
   "execution_count": 48,
   "id": "60d5d332-89ea-44c4-a97c-06db837c6fd9",
   "metadata": {},
   "outputs": [
    {
     "data": {
      "text/plain": [
       "1"
      ]
     },
     "execution_count": 48,
     "metadata": {},
     "output_type": "execute_result"
    }
   ],
   "source": [
    "tup.count(1)"
   ]
  },
  {
   "cell_type": "code",
   "execution_count": 49,
   "id": "1055aebf-c3cd-4fa7-962c-4ac33df2f92c",
   "metadata": {},
   "outputs": [
    {
     "data": {
      "text/plain": [
       "<function tuple.count(value, /)>"
      ]
     },
     "execution_count": 49,
     "metadata": {},
     "output_type": "execute_result"
    }
   ],
   "source": [
    "tup.count"
   ]
  },
  {
   "cell_type": "code",
   "execution_count": 52,
   "id": "b14af4fd-b982-4951-afcc-f5dcc4e64665",
   "metadata": {},
   "outputs": [
    {
     "data": {
      "text/plain": [
       "21"
      ]
     },
     "execution_count": 52,
     "metadata": {},
     "output_type": "execute_result"
    }
   ],
   "source": [
    "sum(tup)"
   ]
  },
  {
   "cell_type": "code",
   "execution_count": 53,
   "id": "9ef82dff-0c2f-43f1-9456-80404a4ba471",
   "metadata": {},
   "outputs": [
    {
     "data": {
      "text/plain": [
       "6"
      ]
     },
     "execution_count": 53,
     "metadata": {},
     "output_type": "execute_result"
    }
   ],
   "source": [
    "len(tup)"
   ]
  },
  {
   "cell_type": "code",
   "execution_count": 54,
   "id": "4e80b07a-a12e-4409-824a-49ce039aae77",
   "metadata": {},
   "outputs": [
    {
     "data": {
      "text/plain": [
       "6"
      ]
     },
     "execution_count": 54,
     "metadata": {},
     "output_type": "execute_result"
    }
   ],
   "source": [
    "max(tup)"
   ]
  },
  {
   "cell_type": "markdown",
   "id": "a1cdb4cf-eed6-4412-a12d-6c68b95b4c37",
   "metadata": {},
   "source": [
    "# converting the list to tuple"
   ]
  },
  {
   "cell_type": "code",
   "execution_count": 55,
   "id": "0af303de-ef50-4591-9a08-71ce9acc96a1",
   "metadata": {},
   "outputs": [
    {
     "name": "stdout",
     "output_type": "stream",
     "text": [
      "[1, 2, 3, 4]\n"
     ]
    }
   ],
   "source": [
    "lst = [1,2,3,4]\n",
    "print(lst)"
   ]
  },
  {
   "cell_type": "code",
   "execution_count": 56,
   "id": "62e88a9b-820b-44ae-a28c-179a9139a937",
   "metadata": {},
   "outputs": [],
   "source": [
    "tp1 = tuple(lst)"
   ]
  },
  {
   "cell_type": "code",
   "execution_count": 57,
   "id": "91911a09-7cd8-4c9b-9340-55dd10ff5027",
   "metadata": {},
   "outputs": [
    {
     "data": {
      "text/plain": [
       "(1, 2, 3, 4)"
      ]
     },
     "execution_count": 57,
     "metadata": {},
     "output_type": "execute_result"
    }
   ],
   "source": [
    "tp1"
   ]
  },
  {
   "cell_type": "markdown",
   "id": "d305218a-1f94-4562-808e-051d8d0636c8",
   "metadata": {},
   "source": [
    "# nesting tuple in a list"
   ]
  },
  {
   "cell_type": "code",
   "execution_count": 58,
   "id": "91efc9cb-c430-4d9c-8d69-8a816b8a919c",
   "metadata": {},
   "outputs": [],
   "source": [
    "lst = [(1,2,3),(4,5,5)]"
   ]
  },
  {
   "cell_type": "code",
   "execution_count": 59,
   "id": "35f9278a-6520-4edb-803a-7189cdc67441",
   "metadata": {},
   "outputs": [
    {
     "name": "stdout",
     "output_type": "stream",
     "text": [
      "[(1, 2, 3), (4, 5, 5)]\n"
     ]
    }
   ],
   "source": [
    "print(lst)"
   ]
  },
  {
   "cell_type": "code",
   "execution_count": null,
   "id": "007af7b7-61b2-4374-9e8d-2fdcb968d67e",
   "metadata": {},
   "outputs": [],
   "source": []
  }
 ],
 "metadata": {
  "kernelspec": {
   "display_name": "Python 3 (ipykernel)",
   "language": "python",
   "name": "python3"
  },
  "language_info": {
   "codemirror_mode": {
    "name": "ipython",
    "version": 3
   },
   "file_extension": ".py",
   "mimetype": "text/x-python",
   "name": "python",
   "nbconvert_exporter": "python",
   "pygments_lexer": "ipython3",
   "version": "3.13.0"
  }
 },
 "nbformat": 4,
 "nbformat_minor": 5
}
